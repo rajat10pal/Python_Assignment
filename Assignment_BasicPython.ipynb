{
  "nbformat": 4,
  "nbformat_minor": 0,
  "metadata": {
    "colab": {
      "provenance": [],
      "authorship_tag": "ABX9TyPNGTAqDWqfZRUrmNEQpyIW",
      "include_colab_link": true
    },
    "kernelspec": {
      "name": "python3",
      "display_name": "Python 3"
    },
    "language_info": {
      "name": "python"
    }
  },
  "cells": [
    {
      "cell_type": "markdown",
      "metadata": {
        "id": "view-in-github",
        "colab_type": "text"
      },
      "source": [
        "<a href=\"https://colab.research.google.com/github/rajat10pal/Python_Assignment/blob/main/Assignment_BasicPython.ipynb\" target=\"_parent\"><img src=\"https://colab.research.google.com/assets/colab-badge.svg\" alt=\"Open In Colab\"/></a>"
      ]
    },
    {
      "cell_type": "code",
      "execution_count": 4,
      "metadata": {
        "colab": {
          "base_uri": "https://localhost:8080/"
        },
        "id": "rxTN4xQc5MvH",
        "outputId": "c4694bb9-1752-4441-db61-94077092f166"
      },
      "outputs": [
        {
          "output_type": "stream",
          "name": "stdout",
          "text": [
            "162.8894626777442\n"
          ]
        }
      ],
      "source": [
        "'''Q1. Using Python script as a calculator\n",
        "Create the variables n, r, p and assign them values 10, 5, and 100 respectively. Then\n",
        "evaluate the following expression in the Python console.\n",
        "𝐴 = 𝑝 (1 + 𝑟/ 100)n\n",
        "a. 100\n",
        "b. 162.89\n",
        "c. 189\n",
        "d. None of the above'''\n",
        "\n",
        "p= 100\n",
        "r=5\n",
        "n=10\n",
        "\n",
        "A=p*(1+r/100)**n\n",
        "\n",
        "print(A)\n",
        "\n",
        "\n",
        "# Ans - 162.8894626777442"
      ]
    },
    {
      "cell_type": "code",
      "source": [
        "'''Q2. In a given string format operation, how will you print the given string.\n",
        "A = 10\n",
        "B = 20\n",
        "Str = \"There are {} students in the class, with {} who play at least one sport.\"\n",
        "a. print(string.format(a,b))\n",
        "b. print(string+a+b)\n",
        "c. print(string.format(b,a))\n",
        "d. None of the above'''\n",
        "\n",
        "\n",
        "A = 10\n",
        "B = 20\n",
        "string = \"There are {} students in the class, with {} who play at least one sport.\"\n",
        "\n",
        "print(string.format(B,A))\n",
        "\n",
        "# ans - There are 20 students in the class, with 10 who play at least one sport.\n"
      ],
      "metadata": {
        "colab": {
          "base_uri": "https://localhost:8080/"
        },
        "id": "PBcfezCI50DG",
        "outputId": "68ea5832-4f31-4d79-a306-ad74f7f4ac8f"
      },
      "execution_count": 6,
      "outputs": [
        {
          "output_type": "stream",
          "name": "stdout",
          "text": [
            "There are 20 students in the class, with 10 who play at least one sport.\n"
          ]
        }
      ]
    },
    {
      "cell_type": "code",
      "source": [
        "'''Q3. In a given sample string, How do you print a double quoted string in between a\n",
        "regular\n",
        "string using the escape character?\n",
        "Sample output = It goes without saying, “Time is Money”, and none can deny it.\n",
        "a. print(“It goes without saying, \\“Time is Money\\”, and none can deny it.”)\n",
        "b. print(“It goes without saying, \\Time is Money\\, and none can deny it.”)\n",
        "c. print(“It goes without saying” + “Time is Money” + “and none can deny it.”)\n",
        "d. None of the above.'''\n",
        "\n",
        "\n",
        "print(\"It goes without saying, \\“Time is Money\\”, and none can deny it.\")\n",
        "\n",
        "#It goes without saying, \\“Time is Money\\”, and none can deny it."
      ],
      "metadata": {
        "colab": {
          "base_uri": "https://localhost:8080/"
        },
        "id": "kl8xS0QR6VVP",
        "outputId": "a4356cfc-8c4e-4a41-adf6-27c771e80354"
      },
      "execution_count": 8,
      "outputs": [
        {
          "output_type": "stream",
          "name": "stdout",
          "text": [
            "It goes without saying, \\“Time is Money\\”, and none can deny it.\n"
          ]
        }
      ]
    },
    {
      "cell_type": "code",
      "source": [
        "'''4. What will be the output of the following code?\n",
        "x = lambda a,b: a//b\n",
        "x(10,3)\n",
        "a. 3.3333333333\n",
        "b. 3\n",
        "c. 30\n",
        "d. 1000'''\n",
        "\n",
        "x = lambda a,b: a//b\n",
        "x(10,3)\n",
        "\n",
        "#Ans -3"
      ],
      "metadata": {
        "colab": {
          "base_uri": "https://localhost:8080/"
        },
        "id": "GJ96WnCN6wkG",
        "outputId": "33cd940a-ecf1-4299-f97b-6655cc85f2d0"
      },
      "execution_count": 10,
      "outputs": [
        {
          "output_type": "execute_result",
          "data": {
            "text/plain": [
              "3"
            ]
          },
          "metadata": {},
          "execution_count": 10
        }
      ]
    },
    {
      "cell_type": "code",
      "source": [
        "'''Q5. What will be the output of the following code?\n",
        "A = 10\n",
        "B = 12\n",
        "print(\"Smaller\") if A == B else print(\"Greater\") if A < B else print(\"True\")\n",
        "a. True\n",
        "b. Smaller\n",
        "c. Greater\n",
        "d. None of the above'''\n",
        "\n",
        "A = 10\n",
        "B = 12\n",
        "print(\"Smaller\") if A == B else print(\"Greater\") if A < B else print(\"True\")\n",
        "\n",
        "#Ans-Greater\n"
      ],
      "metadata": {
        "colab": {
          "base_uri": "https://localhost:8080/"
        },
        "id": "mYm4q2377Zlp",
        "outputId": "a422059a-8462-4311-8d7c-9caa61837296"
      },
      "execution_count": 11,
      "outputs": [
        {
          "output_type": "stream",
          "name": "stdout",
          "text": [
            "Greater\n"
          ]
        }
      ]
    },
    {
      "cell_type": "code",
      "source": [
        "'''Q6. What will be the output of the following code?\n",
        "\n",
        "import os\n",
        "import numpy as np\n",
        "my_list1 =[2,7,3,5,4,6]\n",
        "print(my_list1)\n",
        "arr_1 = numpy.array(my_list1,dtype =int )\n",
        "print(arr_1)\n",
        "\n",
        "a. [2 7 3 5 4 6]\n",
        "b. TypeError\n",
        "c. NameError: name 'numpy' is not defined\n",
        "d. None of the above'''\n",
        "\n",
        "import os\n",
        "import numpy as np\n",
        "my_list1 =[2,7,3,5,4,6]\n",
        "print(my_list1)\n",
        "arr_1 = np.array(my_list1,dtype =int )\n",
        "print(arr_1)\n",
        "\n",
        "#ans -[2, 7, 3, 5, 4, 6]\n",
        "[2 7 3 5 4 6]"
      ],
      "metadata": {
        "colab": {
          "base_uri": "https://localhost:8080/"
        },
        "id": "y8vtkzBh7pEX",
        "outputId": "686d0006-8c87-40fd-937a-80a983c2c7e4"
      },
      "execution_count": 13,
      "outputs": [
        {
          "output_type": "stream",
          "name": "stdout",
          "text": [
            "[2, 7, 3, 5, 4, 6]\n",
            "[2 7 3 5 4 6]\n"
          ]
        }
      ]
    },
    {
      "cell_type": "code",
      "source": [
        "'''Q7. Create a string called ‘string’ with the value as “Machine Learning”. Which code(s)\n",
        "is/are appropriate to slice the substring “Learn”?\n",
        "a. string[slice(13,8,1)]\n",
        "b. string[slice(1,8,1)]\n",
        "c. string[8:14]\n",
        "d. string[slice(8,13,1)]'''\n",
        "\n",
        "string = 'Machine Learning'\n",
        "string[8:13]\n",
        "\n",
        "#ans- Learn"
      ],
      "metadata": {
        "colab": {
          "base_uri": "https://localhost:8080/",
          "height": 35
        },
        "id": "CBKZH31474kU",
        "outputId": "47d4be48-b70d-43d5-949d-d47c55600281"
      },
      "execution_count": 14,
      "outputs": [
        {
          "output_type": "execute_result",
          "data": {
            "text/plain": [
              "'Learn'"
            ],
            "application/vnd.google.colaboratory.intrinsic+json": {
              "type": "string"
            }
          },
          "metadata": {},
          "execution_count": 14
        }
      ]
    },
    {
      "cell_type": "code",
      "source": [
        "'''Q8. Create a sequence of numbers from 10 to 25 and increment by 4. What is the index\n",
        "of the\n",
        "value 18?\n",
        "a. 3\n",
        "b. 2\n",
        "c. 0\n",
        "d. 1'''\n",
        "\n",
        "a= list(range(10,25,4))\n",
        "b=  a.index(18)\n",
        "b\n",
        "\n",
        "#ans-2"
      ],
      "metadata": {
        "colab": {
          "base_uri": "https://localhost:8080/"
        },
        "id": "BW4SsqMT8MBS",
        "outputId": "bc29d08c-6e81-4b51-ee40-edd90a8f490a"
      },
      "execution_count": 15,
      "outputs": [
        {
          "output_type": "execute_result",
          "data": {
            "text/plain": [
              "2"
            ]
          },
          "metadata": {},
          "execution_count": 15
        }
      ]
    },
    {
      "cell_type": "code",
      "source": [
        "'''Q9. Which of the following is true with respect to the below codes?\n",
        "a. num1 = num2\n",
        "b. num1 ≠ num2\n",
        "c. num1 < num2\n",
        "d. num1 > num2'''\n",
        "\n",
        "#soltuion\n",
        "num1 = 5**4\n",
        "num2 = pow(5,4)\n",
        "print(num1,num2)\n",
        "\n",
        "#ans =  a.num1 = num2"
      ],
      "metadata": {
        "colab": {
          "base_uri": "https://localhost:8080/"
        },
        "id": "BrtvM-Hn_pKV",
        "outputId": "d7876d0d-1f67-42e1-bcf1-737d91bcc93d"
      },
      "execution_count": 16,
      "outputs": [
        {
          "output_type": "stream",
          "name": "stdout",
          "text": [
            "625 625\n"
          ]
        }
      ]
    },
    {
      "cell_type": "code",
      "source": [
        "'''Q10.A Python NameError exception is raised when: -\n",
        "a. Trying to access a variable which has not been defined\n",
        "b. Trying to access a key in a dictionary that does not exist\n",
        "c. Accessing a column with misspelled column name\n",
        "d. Accessing the function from a module that has not been imported\n",
        "\n",
        "#ans = a. Trying to access a variable which has not been defined\n"
      ],
      "metadata": {
        "id": "StT6Y1g9_8KG"
      },
      "execution_count": null,
      "outputs": []
    },
    {
      "cell_type": "code",
      "source": [
        "'''Q11.What type of exception will be raised for the code given below?\n",
        "x = 'string'\n",
        "int(x)\n",
        "\n",
        "a. NameError\n",
        "b. KeyError\n",
        "c. ValueError\n",
        "d. AttributeError'''\n",
        "\n",
        "#solution\n",
        "x = 'string'\n",
        "int(x)\n",
        "\n",
        "#ans = c. ValueError"
      ],
      "metadata": {
        "colab": {
          "base_uri": "https://localhost:8080/",
          "height": 210
        },
        "id": "gT9yhbQR_-Mx",
        "outputId": "413e81e2-ed50-42a8-ef76-c7199e119d50"
      },
      "execution_count": 17,
      "outputs": [
        {
          "output_type": "error",
          "ename": "ValueError",
          "evalue": "ignored",
          "traceback": [
            "\u001b[0;31m---------------------------------------------------------------------------\u001b[0m",
            "\u001b[0;31mValueError\u001b[0m                                Traceback (most recent call last)",
            "\u001b[0;32m<ipython-input-17-664f711c074e>\u001b[0m in \u001b[0;36m<cell line: 11>\u001b[0;34m()\u001b[0m\n\u001b[1;32m      9\u001b[0m \u001b[0;34m\u001b[0m\u001b[0m\n\u001b[1;32m     10\u001b[0m \u001b[0mx\u001b[0m \u001b[0;34m=\u001b[0m \u001b[0;34m'string'\u001b[0m\u001b[0;34m\u001b[0m\u001b[0;34m\u001b[0m\u001b[0m\n\u001b[0;32m---> 11\u001b[0;31m \u001b[0mint\u001b[0m\u001b[0;34m(\u001b[0m\u001b[0mx\u001b[0m\u001b[0;34m)\u001b[0m\u001b[0;34m\u001b[0m\u001b[0;34m\u001b[0m\u001b[0m\n\u001b[0m",
            "\u001b[0;31mValueError\u001b[0m: invalid literal for int() with base 10: 'string'"
          ]
        }
      ]
    },
    {
      "cell_type": "code",
      "source": [
        "'''Q12.A FileNotFoundError exception is raised by operating system errors when: -\n",
        "a. Trying to create a file or directory which already exists\n",
        "b. A file or directory is requested but does not exist in the working directory\n",
        "c. Trying to run an operation without the adequate access rights\n",
        "d. A directory operation, os.listdir() is requested on something which is not a\n",
        "directory'''\n",
        "\n",
        "#solution\n",
        "# ans = b"
      ],
      "metadata": {
        "id": "g7LXo49NAedg"
      },
      "execution_count": null,
      "outputs": []
    },
    {
      "cell_type": "code",
      "source": [
        "'''Q13.Consider a variable Z. The value of Z is \"ID-5632\". Data type of Z is: -\n",
        "a. Complex\n",
        "b. Character\n",
        "c. Integer\n",
        "d. Boolean'''\n",
        "\n",
        "#solution\n",
        "z = 'ID - 5632'\n",
        "\n",
        "\n",
        "#ans = b.character"
      ],
      "metadata": {
        "id": "e9sTjWpnAknR"
      },
      "execution_count": null,
      "outputs": []
    },
    {
      "cell_type": "code",
      "source": [
        "'''Q14.Which of the following variable(s) are character data type?\n",
        "a. K= “4”\n",
        "b. J= “Welcome”\n",
        "c. L= “?”\n",
        "d. All of the above'''\n",
        "\n",
        "\n",
        "# ans =  d.All of the above"
      ],
      "metadata": {
        "id": "7Ma3wbYzAogi"
      },
      "execution_count": null,
      "outputs": []
    },
    {
      "cell_type": "code",
      "source": [
        "'''Q15.Choose the symbol/s that does not have the ability to convert any values to string?\n",
        "a. ( )\n",
        "b. “ ”\n",
        "c. {}\n",
        "d. #'''\n",
        "\n",
        "#ans = d.#'''"
      ],
      "metadata": {
        "id": "FpVVD3YhArua"
      },
      "execution_count": null,
      "outputs": []
    },
    {
      "cell_type": "code",
      "source": [
        "'''Q16.Create a dictionary ‘Country’ that maps the following countries to their capitals\n",
        "respectively:\n",
        "Country India China Japan Qatar France\n",
        "State Delhi Beijing Tokyo Doha Marseilles\n",
        "Find 2 commands to replace “Marseilles” with “Paris” is:'''\n",
        "\n",
        "#Ans\n",
        "\n",
        "Country = {'India':'Delhi','China':'Beijing','Japan':'Tokyo','Qatar':'Doha','France':'Marseilles'}\n",
        "Country\n",
        "\n",
        "Country['France'] = 'Paris'             # 1st way\n",
        "Country\n",
        "\n",
        "Country.update({'France':'Paris'})          # 2nd way\n",
        "Country"
      ],
      "metadata": {
        "colab": {
          "base_uri": "https://localhost:8080/"
        },
        "id": "I5AmpslFBIA7",
        "outputId": "f35fdf67-3717-40b4-e3fa-ff8861bed997"
      },
      "execution_count": 18,
      "outputs": [
        {
          "output_type": "execute_result",
          "data": {
            "text/plain": [
              "{'India': 'Delhi',\n",
              " 'China': 'Beijing',\n",
              " 'Japan': 'Tokyo',\n",
              " 'Qatar': 'Doha',\n",
              " 'France': 'Paris'}"
            ]
          },
          "metadata": {},
          "execution_count": 18
        }
      ]
    },
    {
      "cell_type": "code",
      "source": [
        "'''Q17. Create the tuples given below\n",
        "tuple_1 = (1,5,6,7,8)\n",
        "tuple_2 = (8,9,4)\n",
        "Identify which of the following code does not work on a tuple.\n",
        "a. sum(tuple_1)\n",
        "b. len(tuple_2)\n",
        "c. tuple_2 + tuple_1\n",
        "d. tuple_1[3] = 45'''\n",
        "\n",
        "#solution\n",
        "\n",
        "tuple_1 = (1,5,6,7,8)\n",
        "tuple_2 = (8,9,4)\n",
        "\n",
        "sum(tuple_1)\n",
        "len(tuple_2)\n",
        "tuple_2+tuple_1\n",
        "tuple_1[3] = 45\n",
        "\n",
        "#Ans = d.tuple_1[3] = 45"
      ],
      "metadata": {
        "id": "LYypfsKSBLyQ"
      },
      "execution_count": null,
      "outputs": []
    },
    {
      "cell_type": "code",
      "source": [
        "#Q18. How many elements in the following data structure?\n",
        "\n",
        "s = {1,2,3,4,4,4,5,6}\n",
        "p = len(s)\n",
        "p\n",
        "\n",
        "# Ans 6 elements because it does not allow duplicates values"
      ],
      "metadata": {
        "id": "YaIIOyL8BL6M"
      },
      "execution_count": null,
      "outputs": []
    }
  ]
}